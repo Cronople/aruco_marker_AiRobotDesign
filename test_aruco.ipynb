{
 "cells": [
  {
   "attachments": {},
   "cell_type": "markdown",
   "metadata": {},
   "source": [
    "목표\n",
    "\n",
    "Aruomarker 생성 (기존 코드 활용)\n",
    "\n",
    "Arucomarker 검출 (기존 코드 활용)\n",
    "\n",
    "Arucomarker 카메라에서 인식\n",
    "\n",
    "Arucomarker 상대 위치 인식\n",
    "\n",
    "Arucomarker 정밀도 수정 연습"
   ]
  },
  {
   "cell_type": "code",
   "execution_count": 8,
   "metadata": {},
   "outputs": [],
   "source": [
    "import numpy as np\n",
    "import imutils\n",
    "import cv2 as cv\n",
    "import sys"
   ]
  },
  {
   "cell_type": "code",
   "execution_count": 9,
   "metadata": {},
   "outputs": [],
   "source": [
    "# OpenCV에서 지원하는 ARUCO MARKER의 TYPE에 대한 딕셔너리\n",
    "ARUCO_DICT = {\n",
    "\t\"DICT_4X4_50\": cv.aruco.DICT_4X4_50,\n",
    "\t\"DICT_4X4_100\": cv.aruco.DICT_4X4_100,\n",
    "\t\"DICT_4X4_250\": cv.aruco.DICT_4X4_250,\n",
    "\t\"DICT_4X4_1000\": cv.aruco.DICT_4X4_1000,\n",
    "\t\"DICT_5X5_50\": cv.aruco.DICT_5X5_50,\n",
    "\t\"DICT_5X5_100\": cv.aruco.DICT_5X5_100,\n",
    "\t\"DICT_5X5_250\": cv.aruco.DICT_5X5_250,\n",
    "\t\"DICT_5X5_1000\": cv.aruco.DICT_5X5_1000,\n",
    "\t\"DICT_6X6_50\": cv.aruco.DICT_6X6_50,\n",
    "\t\"DICT_6X6_100\": cv.aruco.DICT_6X6_100,\n",
    "\t\"DICT_6X6_250\": cv.aruco.DICT_6X6_250,\n",
    "\t\"DICT_6X6_1000\": cv.aruco.DICT_6X6_1000,\n",
    "\t\"DICT_7X7_50\": cv.aruco.DICT_7X7_50,\n",
    "\t\"DICT_7X7_100\": cv.aruco.DICT_7X7_100,\n",
    "\t\"DICT_7X7_250\": cv.aruco.DICT_7X7_250,\n",
    "\t\"DICT_7X7_1000\": cv.aruco.DICT_7X7_1000,\n",
    "\t\"DICT_ARUCO_ORIGINAL\": cv.aruco.DICT_ARUCO_ORIGINAL,\n",
    "\t\"DICT_APRILTAG_16h5\": cv.aruco.DICT_APRILTAG_16h5,\n",
    "\t\"DICT_APRILTAG_25h9\": cv.aruco.DICT_APRILTAG_25h9,\n",
    "\t\"DICT_APRILTAG_36h10\": cv.aruco.DICT_APRILTAG_36h10,\n",
    "\t\"DICT_APRILTAG_36h11\": cv.aruco.DICT_APRILTAG_36h11\n",
    "}"
   ]
  },
  {
   "cell_type": "code",
   "execution_count": 20,
   "metadata": {},
   "outputs": [],
   "source": [
    "import numpy as np\n",
    "import cv2 as cv\n",
    "import glob\n",
    "# termination criteria\n",
    "criteria = (cv.TERM_CRITERIA_EPS + cv.TERM_CRITERIA_MAX_ITER, 30, 0.001)\n",
    "# prepare object points, like (0,0,0), (1,0,0), (2,0,0) ....,(6,5,0)\n",
    "objp = np.zeros((6*7,3), np.float32)\n",
    "objp[:,:2] = np.mgrid[0:7,0:6].T.reshape(-1,2)\n",
    "# Arrays to store object points and image points from all the images.\n",
    "objpoints = [] # 3d point in real world space\n",
    "imgpoints = [] # 2d points in image plane.\n",
    "\n",
    "capture = cv.VideoCapture(0)\n",
    "while True:\n",
    "    ret, frame = capture.read()\n",
    "    # cv.imshow(\"VideoFrame\", frame)\n",
    "    gray = cv.cvtColor(frame, cv.COLOR_BGR2GRAY)\n",
    "    # Find the chess board corners\n",
    "    ret, corners = cv.findChessboardCorners(gray, (7,6), None)\n",
    "    # If found, add object points, image points (after refining them)\n",
    "    if ret == True:\n",
    "        objpoints.append(objp)\n",
    "        corners2 = cv.cornerSubPix(gray,corners, (11,11), (-1,-1), criteria)\n",
    "        imgpoints.append(corners2)\n",
    "        # Draw and display the corners\n",
    "        cv.drawChessboardCorners(frame, (7,6), corners2, ret)\n",
    "        cv.imshow('VideoFrame', frame)\n",
    "    else:\n",
    "        cv.imshow(\"VideoFrame\", frame)\n",
    "\n",
    "    if cv.waitKey(1) & 0xFF == ord('q'):\n",
    "        break\n",
    "\n",
    "cv.destroyAllWindows()"
   ]
  },
  {
   "cell_type": "code",
   "execution_count": 21,
   "metadata": {},
   "outputs": [],
   "source": [
    "ret, mtx, dist, rvecs, tvecs = cv.calibrateCamera (objpoints, imgpoints, gray.shape[::-1], None , None )"
   ]
  },
  {
   "cell_type": "code",
   "execution_count": 22,
   "metadata": {},
   "outputs": [],
   "source": [
    "def pose_esitmation(frame, aruco_dict_type, matrix_coefficients, distortion_coefficients):\n",
    "\n",
    "    '''\n",
    "    frame - 카메라 또는 비디오에서 읽어온 이미지\n",
    "    aruco_dict_type - 사용하는 MARKER의 TYPE (예. 앞서 설명한 코드의 ARUCO_DICT[aruco_type])\n",
    "    matrix_coefficients - 카메라 Calibration 과정 후에 획득한 Intrinsic matrix (내부 행렬)\n",
    "    distortion_coefficients - 카메라 Calibration 과정 후에 획득한 Distortion coefficients (왜곡 계수)\n",
    "    return:\n",
    "    frame - 읽어온 이미지 + MARKER의 축\n",
    "    '''\n",
    "\n",
    "    # 카메라 또는 비디오에서 읽어온 이미지를 흑백으로 변환\n",
    "    gray = cv.cvtColor(frame, cv.COLOR_BGR2GRAY)\n",
    "    # 정의한 ARUCO MARKER의 TYPE을\n",
    "    # 컴퓨터가 이해할 수 있는 형태의 언어로 변환하는 부분임\n",
    "    cv.aruco_dict = cv.aruco.Dictionary_get(aruco_dict_type)\n",
    "    # 검출을 위한 파라미터 설정하는 부분임\n",
    "    # 일반적으로 default 값을 그대로 사용함\n",
    "    parameters = cv.aruco.DetectorParameters_create()\n",
    "    # MARKER 검출\n",
    "    corners, ids, rejected_img_points = cv.aruco.detectMarkers(gray, cv.aruco_dict,parameters=parameters)\n",
    "        # cameraMatrix=matrix_coefficients,\n",
    "        # distCoeff=distortion_coefficients)\n",
    "\n",
    "    # 하나 이상의 MARKER가 검출됐을 때만 실행되는 부분\n",
    "    if len(corners) > 0:\n",
    "        for i in range(0, len(ids)):\n",
    "            # 각 MARKER의 Pose를 측정 하고 rvec 과 tvec 으로 반환\n",
    "            rvec, tvec, markerPoints = cv.aruco.estimatePoseSingleMarkers(corners[i], 0.02, matrix_coefficients,\n",
    "                                                                       distortion_coefficients)\n",
    "            # MARKER 테두리 그려주기 (삭제해도 됨)\n",
    "            cv.aruco.drawDetectedMarkers(frame, corners) \n",
    "\n",
    "            # MARKER 축 그려주기 (삭제해도 됨)\n",
    "            cv.drawFrameAxes(frame, matrix_coefficients, distortion_coefficients, rvec, tvec, 0.01)  \n",
    "\n",
    "    return frame"
   ]
  },
  {
   "cell_type": "code",
   "execution_count": 12,
   "metadata": {},
   "outputs": [
    {
     "name": "stdout",
     "output_type": "stream",
     "text": [
      "[INFO] detecting 'DICT_4X4_50' tags...\n"
     ]
    }
   ],
   "source": [
    "# 인식할 MARKER의 TYPE을 정의해줌\n",
    "aruco_type = \"DICT_4X4_50\"\n",
    "print(\"[INFO] detecting '{}' tags...\".format(aruco_type))\n",
    "arucoDict = cv.aruco.Dictionary_get(ARUCO_DICT[aruco_type])"
   ]
  },
  {
   "cell_type": "code",
   "execution_count": 23,
   "metadata": {},
   "outputs": [],
   "source": [
    "import cv2 as cv\n",
    "\n",
    "capture = cv.VideoCapture(0)\n",
    "# capture.set(cv.CAP_PROP_FRAME_WIDTH, 1280)\n",
    "# capture.set(cv.CAP_PROP_FRAME_HEIGHT, 720)\n",
    "\n",
    "while True:\n",
    "    ret, frame = capture.read()\n",
    "    # cv.imshow(\"VideoFrame\", frame)\n",
    "    \n",
    "    det_frame = pose_esitmation(frame, ARUCO_DICT[aruco_type], mtx, dist)\n",
    "    cv.imshow(\"VideoFrame\", det_frame)\n",
    "\n",
    "    if cv.waitKey(1) & 0xFF == ord('q'):\n",
    "        break\n",
    "\n",
    "cv.destroyAllWindows()\n",
    "capture.release()"
   ]
  }
 ],
 "metadata": {
  "kernelspec": {
   "display_name": "aruco",
   "language": "python",
   "name": "python3"
  },
  "language_info": {
   "codemirror_mode": {
    "name": "ipython",
    "version": 3
   },
   "file_extension": ".py",
   "mimetype": "text/x-python",
   "name": "python",
   "nbconvert_exporter": "python",
   "pygments_lexer": "ipython3",
   "version": "3.10.0"
  },
  "orig_nbformat": 4
 },
 "nbformat": 4,
 "nbformat_minor": 2
}
